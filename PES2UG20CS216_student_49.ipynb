{
  "nbformat": 4,
  "nbformat_minor": 0,
  "metadata": {
    "colab": {
      "name": "PES2UG20CS216-student-49.ipynb",
      "provenance": [],
      "collapsed_sections": []
    },
    "kernelspec": {
      "name": "python3",
      "display_name": "Python 3"
    },
    "language_info": {
      "name": "python"
    }
  },
  "cells": [
    {
      "cell_type": "markdown",
      "metadata": {
        "id": "f3QAU84M_hhB"
      },
      "source": [
        "#**LIBRARIES USED**"
      ]
    },
    {
      "cell_type": "code",
      "metadata": {
        "id": "U366CHCg4ktL"
      },
      "source": [
        "import pandas as pd\n",
        "import numpy as np"
      ],
      "execution_count": 94,
      "outputs": []
    },
    {
      "cell_type": "code",
      "metadata": {
        "id": "d3hTnIAIakw_"
      },
      "source": [
        "import seaborn as sns\n",
        "import matplotlib.pyplot as plt"
      ],
      "execution_count": 95,
      "outputs": []
    },
    {
      "cell_type": "code",
      "metadata": {
        "id": "oJVbp9GRNouk"
      },
      "source": [
        "from google.colab import drive\n",
        "drive.mount('/content/drive')\n",
        "df = pd.read_csv('/content/drive/My Drive/Data_Science/49.csv')\n",
        "df.head()\n"
      ],
      "execution_count": null,
      "outputs": []
    },
    {
      "cell_type": "markdown",
      "metadata": {
        "id": "SzYG0Tw7AgPg"
      },
      "source": [
        "#**INTRODUCTORY QUESTIONS**\n",
        "## **1) ADDING PERCENTAGE COLUMN AND CALCULATION**"
      ]
    },
    {
      "cell_type": "code",
      "metadata": {
        "id": "mOxXtuci5LC2"
      },
      "source": [
        "df['Percentage'] = 0\n",
        "df.head()"
      ],
      "execution_count": null,
      "outputs": []
    },
    {
      "cell_type": "code",
      "metadata": {
        "id": "tl3S1nJBPthu"
      },
      "source": [
        "for i in range(len(df)):\n",
        "  df['Percentage'] = (df['math score']+df['reading score']+df['writing score'])/3\n",
        "df.head()"
      ],
      "execution_count": null,
      "outputs": []
    },
    {
      "cell_type": "markdown",
      "metadata": {
        "id": "VgHC6etpBZ0M"
      },
      "source": [
        "##**2)DATA CLEANING**\n",
        "### CHECKING NUMBER OF ROWS WITH NULL "
      ]
    },
    {
      "cell_type": "code",
      "metadata": {
        "id": "EKo-b86KQb_W"
      },
      "source": [
        "df.value_counts()"
      ],
      "execution_count": null,
      "outputs": []
    },
    {
      "cell_type": "code",
      "metadata": {
        "id": "f8sBb_NjQ1E0"
      },
      "source": [
        "df.count()"
      ],
      "execution_count": null,
      "outputs": []
    },
    {
      "cell_type": "code",
      "metadata": {
        "id": "_Y7eUUBuR1kQ"
      },
      "source": [
        "\n",
        "a = df[df['parental level of education'].isnull()].index\n",
        "a\n",
        "df.drop(a)"
      ],
      "execution_count": null,
      "outputs": []
    },
    {
      "cell_type": "markdown",
      "metadata": {
        "id": "Q4mPp8_TB9O3"
      },
      "source": [
        "####**We can see that in the column, parental level of education there exists a missing data value which needs to be deleted from the data set.** "
      ]
    },
    {
      "cell_type": "markdown",
      "metadata": {
        "id": "C5Vs01kYCInC"
      },
      "source": [
        "####**BELOW THREE CODE CELLS WERE USED TO FIND THE RANGE OF VALUES USED IN THE DATASHEET**"
      ]
    },
    {
      "cell_type": "code",
      "metadata": {
        "id": "RLmIp0d8U0a_"
      },
      "source": [
        "mx = df['math score'].max()\n",
        "my = df['math score'].min()\n",
        "print(my,mx)\n"
      ],
      "execution_count": null,
      "outputs": []
    },
    {
      "cell_type": "code",
      "metadata": {
        "id": "w3NQ5ENkXLKN"
      },
      "source": [
        "rx = df['reading score'].max()\n",
        "ry = df['reading score'].min()\n",
        "print(ry,rx)"
      ],
      "execution_count": null,
      "outputs": []
    },
    {
      "cell_type": "code",
      "metadata": {
        "id": "-to_6z0NXMBt"
      },
      "source": [
        "wx = df['writing score'].max()\n",
        "wy = df['writing score'].min()\n",
        "print(wy,wx)"
      ],
      "execution_count": null,
      "outputs": []
    },
    {
      "cell_type": "code",
      "metadata": {
        "id": "aekwttNcX5TK"
      },
      "source": [
        "df[df['Percentage'].isnull()]\n"
      ],
      "execution_count": null,
      "outputs": []
    },
    {
      "cell_type": "markdown",
      "metadata": {
        "id": "xwwy-yLXEDFL"
      },
      "source": [
        "####**THE ABOVE CODE CELL CHECKS FOR NAN AND NULL VALUES. IT THEN CHANGES THESE VALUES TO 0. AFTER THIS STEP WE AGAIN CALCULATE THE PERCENTAGE FOR FURTHER CALCULATIONS**"
      ]
    },
    {
      "cell_type": "code",
      "metadata": {
        "id": "6YXDQIlOYt18"
      },
      "source": [
        "df['math score'] = df['math score'].fillna(0)\n",
        "df['reading score'] = df['reading score'].fillna(0)\n",
        "df['writing score'] = df['writing score'].fillna(0)"
      ],
      "execution_count": 106,
      "outputs": []
    },
    {
      "cell_type": "code",
      "metadata": {
        "id": "o2qXQAyFZB8_"
      },
      "source": [
        "df[df['Percentage'].isnull()]\n"
      ],
      "execution_count": null,
      "outputs": []
    },
    {
      "cell_type": "code",
      "metadata": {
        "id": "RMRvEWtTZgrK"
      },
      "source": [
        "#The range of marks in each subject is in between 20-120. Reason for deducting 20 marks in each subject\n",
        "for i in range(len(df)):\n",
        "  df['Percentage'] = (df['math score']+df['reading score']+df['writing score']-60)/3\n",
        "df.head()"
      ],
      "execution_count": null,
      "outputs": []
    },
    {
      "cell_type": "code",
      "metadata": {
        "id": "sg1jJi7lZvdV"
      },
      "source": [
        "df[df['Percentage'].isnull()].count"
      ],
      "execution_count": null,
      "outputs": []
    },
    {
      "cell_type": "markdown",
      "metadata": {
        "id": "D9dmclIoDCV7"
      },
      "source": [
        "##**3)DISTRIBUTION OF READING SCORE**"
      ]
    },
    {
      "cell_type": "code",
      "metadata": {
        "id": "HBgbMwXBag2V"
      },
      "source": [
        "sns.set_style('whitegrid')\n",
        "sns.distplot(df['reading score'], kde = False, color ='red', bins = 12)"
      ],
      "execution_count": null,
      "outputs": []
    },
    {
      "cell_type": "markdown",
      "metadata": {
        "id": "ff6sduzfDMpO"
      },
      "source": [
        "####**The following bar graph shows that the distribution is left-skewed**\n",
        "####**Formula: Skew = 3 * (Mean – Median) / Standard Deviation**\n",
        "####Unique Properties:\n",
        "1.   mean is typically less than the median\n",
        "2.   the median is closer to the third quartile than to the first quartile"
      ]
    },
    {
      "cell_type": "markdown",
      "metadata": {
        "id": "8RYKFVU3Cv7N"
      },
      "source": [
        "##**4)GRADING SYSTEM USING PERCENTAGE**"
      ]
    },
    {
      "cell_type": "code",
      "metadata": {
        "id": "-SN4taXNfqm6"
      },
      "source": [
        "df['Grade'] = 0\n",
        "df.head()\n",
        "df['Grade'].dtype"
      ],
      "execution_count": null,
      "outputs": []
    },
    {
      "cell_type": "code",
      "metadata": {
        "id": "OO3-QLw2pr6o"
      },
      "source": [
        "df['Percentage'].dtype\n",
        "df.head()\n"
      ],
      "execution_count": null,
      "outputs": []
    },
    {
      "cell_type": "code",
      "metadata": {
        "id": "bgoXsqRxxYBq"
      },
      "source": [
        "\n",
        "df.loc[df.Percentage<=100,'Grade'] = \"S\"\n",
        "df.loc[df.Percentage<=90,'Grade'] = \"A\"\n",
        "df.loc[df.Percentage<=80,'Grade'] = \"B\"\n",
        "df.loc[df.Percentage<=70,'Grade'] = \"C\"\n",
        "df.loc[df.Percentage<=60,'Grade'] = \"D\"\n",
        "df.loc[df.Percentage<=40,'Grade'] = \"F\"\n",
        "df.head()"
      ],
      "execution_count": null,
      "outputs": []
    },
    {
      "cell_type": "markdown",
      "metadata": {
        "id": "Tp2O5vz1CpBk"
      },
      "source": [
        "##**5)BAR CHART**"
      ]
    },
    {
      "cell_type": "code",
      "metadata": {
        "id": "3ErOw-Cl1JHN"
      },
      "source": [
        "plt.figure(figsize = (12,8))\n",
        "sns.barplot(x = df['parental level of education'],hue = df['gender'], y = df['Percentage'])"
      ],
      "execution_count": null,
      "outputs": []
    },
    {
      "cell_type": "markdown",
      "metadata": {
        "id": "ZiXTUE4X3nd1"
      },
      "source": [
        "#**TASK QUESTIONS**\n",
        "\n",
        "##**1 a)USE SIMPLE RANDOM SAMPLING TO SAMPLE 100 STUDENTS**\n"
      ]
    },
    {
      "cell_type": "code",
      "metadata": {
        "colab": {
          "base_uri": "https://localhost:8080/",
          "height": 423
        },
        "id": "couIXF6r4H-1",
        "outputId": "252df230-c653-437b-c7c9-5d72baf8ca16"
      },
      "source": [
        "sample_size1=100\n",
        "s1=df.sample(sample_size1)\n",
        "s1"
      ],
      "execution_count": 145,
      "outputs": [
        {
          "output_type": "execute_result",
          "data": {
            "text/html": [
              "<div>\n",
              "<style scoped>\n",
              "    .dataframe tbody tr th:only-of-type {\n",
              "        vertical-align: middle;\n",
              "    }\n",
              "\n",
              "    .dataframe tbody tr th {\n",
              "        vertical-align: top;\n",
              "    }\n",
              "\n",
              "    .dataframe thead th {\n",
              "        text-align: right;\n",
              "    }\n",
              "</style>\n",
              "<table border=\"1\" class=\"dataframe\">\n",
              "  <thead>\n",
              "    <tr style=\"text-align: right;\">\n",
              "      <th></th>\n",
              "      <th>gender</th>\n",
              "      <th>race</th>\n",
              "      <th>parental level of education</th>\n",
              "      <th>lunch</th>\n",
              "      <th>test preparation course</th>\n",
              "      <th>math score</th>\n",
              "      <th>reading score</th>\n",
              "      <th>writing score</th>\n",
              "      <th>Percentage</th>\n",
              "      <th>Grade</th>\n",
              "    </tr>\n",
              "  </thead>\n",
              "  <tbody>\n",
              "    <tr>\n",
              "      <th>841</th>\n",
              "      <td>female</td>\n",
              "      <td>group C</td>\n",
              "      <td>associate's degree</td>\n",
              "      <td>standard</td>\n",
              "      <td>completed</td>\n",
              "      <td>91.0</td>\n",
              "      <td>85.0</td>\n",
              "      <td>78.0</td>\n",
              "      <td>64.666667</td>\n",
              "      <td>C</td>\n",
              "    </tr>\n",
              "    <tr>\n",
              "      <th>135</th>\n",
              "      <td>female</td>\n",
              "      <td>group C</td>\n",
              "      <td>associate's degree</td>\n",
              "      <td>standard</td>\n",
              "      <td>completed</td>\n",
              "      <td>85.0</td>\n",
              "      <td>82.0</td>\n",
              "      <td>75.0</td>\n",
              "      <td>60.666667</td>\n",
              "      <td>C</td>\n",
              "    </tr>\n",
              "    <tr>\n",
              "      <th>26</th>\n",
              "      <td>female</td>\n",
              "      <td>group C</td>\n",
              "      <td>some high school</td>\n",
              "      <td>standard</td>\n",
              "      <td>completed</td>\n",
              "      <td>96.0</td>\n",
              "      <td>81.0</td>\n",
              "      <td>82.0</td>\n",
              "      <td>66.333333</td>\n",
              "      <td>C</td>\n",
              "    </tr>\n",
              "    <tr>\n",
              "      <th>779</th>\n",
              "      <td>female</td>\n",
              "      <td>group A</td>\n",
              "      <td>some high school</td>\n",
              "      <td>standard</td>\n",
              "      <td>completed</td>\n",
              "      <td>114.0</td>\n",
              "      <td>112.0</td>\n",
              "      <td>109.0</td>\n",
              "      <td>91.666667</td>\n",
              "      <td>S</td>\n",
              "    </tr>\n",
              "    <tr>\n",
              "      <th>995</th>\n",
              "      <td>female</td>\n",
              "      <td>group C</td>\n",
              "      <td>bachelor's degree</td>\n",
              "      <td>standard</td>\n",
              "      <td>completed</td>\n",
              "      <td>115.0</td>\n",
              "      <td>61.0</td>\n",
              "      <td>115.0</td>\n",
              "      <td>77.000000</td>\n",
              "      <td>B</td>\n",
              "    </tr>\n",
              "    <tr>\n",
              "      <th>...</th>\n",
              "      <td>...</td>\n",
              "      <td>...</td>\n",
              "      <td>...</td>\n",
              "      <td>...</td>\n",
              "      <td>...</td>\n",
              "      <td>...</td>\n",
              "      <td>...</td>\n",
              "      <td>...</td>\n",
              "      <td>...</td>\n",
              "      <td>...</td>\n",
              "    </tr>\n",
              "    <tr>\n",
              "      <th>446</th>\n",
              "      <td>female</td>\n",
              "      <td>group E</td>\n",
              "      <td>bachelor's degree</td>\n",
              "      <td>standard</td>\n",
              "      <td>completed</td>\n",
              "      <td>113.0</td>\n",
              "      <td>93.0</td>\n",
              "      <td>87.0</td>\n",
              "      <td>77.666667</td>\n",
              "      <td>B</td>\n",
              "    </tr>\n",
              "    <tr>\n",
              "      <th>811</th>\n",
              "      <td>female</td>\n",
              "      <td>group E</td>\n",
              "      <td>some high school</td>\n",
              "      <td>free/reduced</td>\n",
              "      <td>completed</td>\n",
              "      <td>72.0</td>\n",
              "      <td>74.0</td>\n",
              "      <td>76.0</td>\n",
              "      <td>54.000000</td>\n",
              "      <td>D</td>\n",
              "    </tr>\n",
              "    <tr>\n",
              "      <th>94</th>\n",
              "      <td>female</td>\n",
              "      <td>group E</td>\n",
              "      <td>some high school</td>\n",
              "      <td>standard</td>\n",
              "      <td>completed</td>\n",
              "      <td>106.0</td>\n",
              "      <td>113.0</td>\n",
              "      <td>119.0</td>\n",
              "      <td>92.666667</td>\n",
              "      <td>S</td>\n",
              "    </tr>\n",
              "    <tr>\n",
              "      <th>245</th>\n",
              "      <td>female</td>\n",
              "      <td>group E</td>\n",
              "      <td>bachelor's degree</td>\n",
              "      <td>standard</td>\n",
              "      <td>completed</td>\n",
              "      <td>112.0</td>\n",
              "      <td>103.0</td>\n",
              "      <td>98.0</td>\n",
              "      <td>84.333333</td>\n",
              "      <td>A</td>\n",
              "    </tr>\n",
              "    <tr>\n",
              "      <th>724</th>\n",
              "      <td>female</td>\n",
              "      <td>group C</td>\n",
              "      <td>some high school</td>\n",
              "      <td>standard</td>\n",
              "      <td>completed</td>\n",
              "      <td>74.0</td>\n",
              "      <td>70.0</td>\n",
              "      <td>68.0</td>\n",
              "      <td>50.666667</td>\n",
              "      <td>D</td>\n",
              "    </tr>\n",
              "  </tbody>\n",
              "</table>\n",
              "<p>100 rows × 10 columns</p>\n",
              "</div>"
            ],
            "text/plain": [
              "     gender     race  ... Percentage Grade\n",
              "841  female  group C  ...  64.666667     C\n",
              "135  female  group C  ...  60.666667     C\n",
              "26   female  group C  ...  66.333333     C\n",
              "779  female  group A  ...  91.666667     S\n",
              "995  female  group C  ...  77.000000     B\n",
              "..      ...      ...  ...        ...   ...\n",
              "446  female  group E  ...  77.666667     B\n",
              "811  female  group E  ...  54.000000     D\n",
              "94   female  group E  ...  92.666667     S\n",
              "245  female  group E  ...  84.333333     A\n",
              "724  female  group C  ...  50.666667     D\n",
              "\n",
              "[100 rows x 10 columns]"
            ]
          },
          "metadata": {},
          "execution_count": 145
        }
      ]
    },
    {
      "cell_type": "markdown",
      "metadata": {
        "id": "IrxY12oa4Yrf"
      },
      "source": [
        "##**b)STRATIFIED SAMPLING USING RACE AS A STRATA**\n"
      ]
    },
    {
      "cell_type": "code",
      "metadata": {
        "id": "s9xNOWu44qQJ"
      },
      "source": [
        "s2=df.groupby('race',group_keys=False).apply(lambda x:x.sample(frac=0.1))\n",
        "s2"
      ],
      "execution_count": null,
      "outputs": []
    },
    {
      "cell_type": "markdown",
      "metadata": {
        "id": "-ZRJbfZF5fSU"
      },
      "source": [
        "##**c)FINDING MEAN AND SAMPLING ERROR CALCULATION**\n"
      ]
    },
    {
      "cell_type": "code",
      "metadata": {
        "id": "fuEpHdbT5rRy"
      },
      "source": [
        "mean1 = s1['math score'].mean()\n",
        "print('Mean of sample a: ',mean1)\n",
        "mean2 = s2['math score'].mean()\n",
        "print('Mean of sample b: ',mean2)"
      ],
      "execution_count": null,
      "outputs": []
    },
    {
      "cell_type": "code",
      "metadata": {
        "id": "2LlULDiW5wP0"
      },
      "source": [
        "true_value=df['math score'].mean()\n",
        "true_value"
      ],
      "execution_count": null,
      "outputs": []
    },
    {
      "cell_type": "code",
      "metadata": {
        "id": "226LmmUs52Lm"
      },
      "source": [
        "sample_error1=true_value-mean1\n",
        "sample_error2=true_value-mean2\n",
        "print('Error of sample a: ',sample_error1)\n",
        "print('Error of sample b: ',sample_error2)"
      ],
      "execution_count": null,
      "outputs": []
    },
    {
      "cell_type": "markdown",
      "metadata": {
        "id": "mmzpGfUc6Fh2"
      },
      "source": [
        "####*WE CAN SEE THAT SAMPLING ERROR OF SAMPLE b IS LOWER*"
      ]
    },
    {
      "cell_type": "markdown",
      "metadata": {
        "id": "nfL-2mxX6jXA"
      },
      "source": [
        "##**d)DISTRIBUTION PLOTTING**"
      ]
    },
    {
      "cell_type": "code",
      "metadata": {
        "id": "a8U8WDr46uKF"
      },
      "source": [
        "df['race'].value_counts(normalize=True).sort_values().plot(kind='bar')\n",
        "plt.title(\"Bar plot for total population\")\n",
        "plt.show()\n",
        "\n",
        "s1['race'].value_counts(normalize=True).sort_values().plot(kind='bar')\n",
        "plt.title(\"Bar plot for sample a\")\n",
        "plt.show()\n",
        "\n",
        "s2['race'].value_counts(normalize=True).sort_values().plot(kind='bar')\n",
        "plt.title(\"Bar plot for sample b\")\n",
        "plt.show()"
      ],
      "execution_count": null,
      "outputs": []
    },
    {
      "cell_type": "markdown",
      "metadata": {
        "id": "pSKKAQby7fgP"
      },
      "source": [
        "####*FROM THE ABOVE THREE GRAPHS WE CAN CONCLUDE THAT THE SAMPLING METHOD IN b IS BETTER THAN a AS THE VALUES WITH RESPECT TO 'RACE' ARE ALMOST SIMILAR*"
      ]
    },
    {
      "cell_type": "markdown",
      "metadata": {
        "id": "OxN4SyPq8YcE"
      },
      "source": [
        "#2)**BOXPLOT**"
      ]
    },
    {
      "cell_type": "code",
      "metadata": {
        "id": "w4nDRKby8hsT"
      },
      "source": [
        "df.boxplot(column=['math score'])\n",
        "df['math score'].describe()"
      ],
      "execution_count": null,
      "outputs": []
    },
    {
      "cell_type": "code",
      "metadata": {
        "id": "KGUkuMZ09yR4"
      },
      "source": [
        "Q1=df['math score'].quantile(.25)\n",
        "Q3=df['math score'].quantile(.75)\n",
        "IQR=Q3-Q1\n",
        "((df['math score']< (Q1-1.5*IQR)) | (df['math score']>(Q3+1.5*IQR))).sum()"
      ],
      "execution_count": null,
      "outputs": []
    },
    {
      "cell_type": "code",
      "metadata": {
        "id": "2LJe0Vmu94z-"
      },
      "source": [
        "df.boxplot(column=['reading score'])\n",
        "df['reading score'].describe()"
      ],
      "execution_count": null,
      "outputs": []
    },
    {
      "cell_type": "code",
      "metadata": {
        "id": "0iT4h2ef99tB"
      },
      "source": [
        "Q1=df['reading score'].quantile(.25)\n",
        "Q3=df['reading score'].quantile(.75)\n",
        "IQR=Q3-Q1\n",
        "((df['reading score']< (Q1-1.5*IQR)) | (df['reading score']>(Q3+1.5*IQR))).sum()"
      ],
      "execution_count": null,
      "outputs": []
    },
    {
      "cell_type": "code",
      "metadata": {
        "id": "fvMlh85s-Np_"
      },
      "source": [
        "df.boxplot(column=['writing score'])\n",
        "df['writing score'].describe()"
      ],
      "execution_count": null,
      "outputs": []
    },
    {
      "cell_type": "code",
      "metadata": {
        "id": "1vVq9nfs-TEv"
      },
      "source": [
        "Q1=df['writing score'].quantile(.25)\n",
        "Q3=df['writing score'].quantile(.75)\n",
        "IQR=Q3-Q1\n",
        "((df['writing score']< (Q1-1.5*IQR)) | (df['writing score']>(Q3+1.5*IQR))).sum()"
      ],
      "execution_count": null,
      "outputs": []
    },
    {
      "cell_type": "markdown",
      "metadata": {
        "id": "83T-XQiR0wIX"
      },
      "source": [
        "***Boxplot takes only one input(which has numerical value). Hence cannot be drawn against race or any other row***"
      ]
    }
  ]
}